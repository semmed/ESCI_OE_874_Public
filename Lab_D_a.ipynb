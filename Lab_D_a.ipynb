{
 "cells": [
  {
   "cell_type": "markdown",
   "metadata": {},
   "source": [
    "<img align=\"center\" width=\"12%\" style=\"padding-right:10px;\" src=\"./Images/Ccom.png\">"
   ]
  },
  {
   "cell_type": "markdown",
   "metadata": {},
   "source": [
    "# Integrated Seabed Mapping Systems <a href=\"https://teams.microsoft.com/l/channel/19%3a6d420007fb504c57850639e54a52945b%40thread.tacv2/Lab%2520D?groupId=b7209537-725b-40fc-bdbe-212e9689ef18&tenantId=d6241893-512d-46dc-8d2b-be47e25f5666\"><img src=\"./Images/help.png\"  title=\"Ask questions on Teams\" align=\"right\" width=\"10%\" ></a><br><br>  Lab D: "
   ]
  },
  {
   "cell_type": "markdown",
   "metadata": {},
   "source": [
    "___\n",
    "## D0 Create Python Script - Load the Dependecies\n",
    "\n",
    "We will run this lab a little different. Rather than adding and editing code in this Notebook we will use a script that we will run. This has the advantage that we ensure that all the code is executed sequentially. It also highlights another capability of Jupyter Notebooks.\n",
    "\n",
    "Create a LabD.py File and load the dependencies \n",
    "\n",
    "    # D0 Create Python Script - Load the Dependecies\n",
    "\n",
    "    import sys\n",
    "    import import_ipynb\n",
    "    import os.path\n",
    "    import matplotlib as plt\n",
    "    import numpy as np\n",
    "    from datetime import datetime, timedelta\n",
    "    from numpy import pi, arctan2, arccos, abs, sin, cos, tan, sqrt, sum, arctan\n",
    "    from mycode.position import Position\n",
    "    from mycode.twtt import TWTT\n",
    "    from mycode.integration import Integration\n",
    "    from mycode.integration import Motion\n",
    "    from datetime import datetime, timezone\n",
    "    from mycode.vessel import Vessel\n",
    "    from mycode.ssp import SSP\n",
    "    from mycode.ping import Ping\n",
    "    from mycode.om_math import Rx, Ry, Rz\n",
    "\n"
   ]
  },
  {
   "cell_type": "markdown",
   "metadata": {},
   "source": [
    "___\n",
    "## D0.1 Add the Current Folder To the Path\n",
    "\n",
    "Before we start in earnest we will have to do some more house keeping, we need to add the current folder to the path\n",
    "\n",
    "    # D0.1 Add the Current Folder To the Path\n",
    "\n",
    "    sys.path.append(os.getcwd())\n",
    "    abs_path=os.path.abspath(os.path.curdir)\n",
    "    print(\"Configured environment for Lab D\")\n",
    "\n"
   ]
  },
  {
   "cell_type": "markdown",
   "metadata": {},
   "source": [
    "## D0.2 Testing, Testing, D0.1, D0.2\n",
    "\n",
    "In the code cell below we should see whether things worked\n",
    "\n"
   ]
  },
  {
   "cell_type": "code",
   "execution_count": 59,
   "metadata": {},
   "outputs": [
    {
     "name": "stdout",
     "output_type": "stream",
     "text": [
      "The autoreload extension is already loaded. To reload it, use:\n",
      "  %reload_ext autoreload\n",
      "Configured environment for Lab D\n",
      "Opening GNSS data file:/home/jupyter-semmed/ESCI_OE_874/Data/Lab_A_GNSS.txt\n",
      "Opening motion data file:/home/jupyter-semmed/ESCI_OE_874/Data/Lab_A_MRU.txt\n",
      "Opening sound speed profile data file:/home/jupyter-semmed/ESCI_OE_874/Data/Lab_A_SVP.txt\n",
      "Data/data_ping_4170.txt\n",
      "Opening sound speed profile data file:Data/data_ping_4170.txt\n",
      "[[ 0.9393]\n",
      " [ -0.0351]\n",
      " [ 0.1114]]\n",
      "[[ 0.9393]\n",
      " [ -0.0351]\n",
      " [ 0.1114]]\n"
     ]
    }
   ],
   "source": [
    "%load_ext autoreload\n",
    "%autoreload 2\n",
    "\n",
    "%run -i LabD.py"
   ]
  },
  {
   "cell_type": "markdown",
   "metadata": {},
   "source": [
    "___\n",
    "## D1 Defining the Vessel\n",
    "\n",
    "<img align=\"center\" width=\"80%\" style=\"padding-right:10px;\" src=\"./Images/conecone.jpg\">\n",
    "\n",
    "In Lab A we saw that to obtain a location and orientation of the sonars (from which to calculate their sonar-relative beam vectors) we need to utilize asynchronous observations of position and orientation. They are both available on the vessel, but at different locations or orientations. To relate the two together, we needed to establish a ship reference frame.\n",
    "\n",
    "Within that reference frame we needed to establish the location and orientation of each sensor in turn. The net result is that we know the location of the transmit-transducer at the transmit epochs and the receive-transducer at the receive epochs.\n",
    "\n",
    "The data presented here is from the same expedition as that presented in Lab A, i.e. the vessel data is the same\n",
    "In the `LabD.py` script add the following to define the a `Vessel` object name `vessel`\n",
    "\n",
    "    vessel = Vessel()\n",
    "    vessel.metadata[\"name\"]=\"USNS Henson\"\n",
    "    vessel.metadata[\"owned_by\"]=\"United States Navy\"\n",
    "    vessel.metadata[\"operated_by\"]=\"United States Navy\"\n",
    "    vessel.metadata[\"pos_source\"]=\"NavCom (C-Nav)\"\n",
    "    vessel.metadata[\"sonar\"]=\"Kongsberg EM710\"\n",
    "    vessel.metadata[\"mru\"]=\"Applanix POS/MV 320\"\n",
    "    vessel.metadata[\"loa\"]=100\n",
    "    \n",
    "Also add the lever arms and water line\n",
    "\n",
    "    vessel.wl = -2.59\n",
    "    vessel.lever_arm_trans = np.asarray([16.26, -1.75, 4.15]).reshape((3, 1))\n",
    "    vessel.lever_arm_rec = np.array([14.82, -2.01, 4.17]).reshape((3, 1))\n",
    "    vessel.lever_arm_pos = np.array([-5.73, -0.12, -30.00]).reshape((3, 1))\n",
    "    vessel.lever_arm_mru = np.array([0, 0, 0]).reshape((3, 1))\n"
   ]
  },
  {
   "cell_type": "markdown",
   "metadata": {},
   "source": [
    "___\n",
    "## D11.0 Georeferencing the Antenna Lever Arms\n",
    "\n",
    "First we will calculate the georeferenced GNSS lever arm `geo_tx_ant` for epoch `t_tx` and geo_tx_ant` for epoch `t_rx`\n",
    "\n",
    "In the LabD.py script add and complete the following:\n",
    "\n",
    "    geo_tx_ant = positions.get_position(...)\n",
    "    geo_rx_ant = ...\n"
   ]
  },
  {
   "cell_type": "code",
   "execution_count": 60,
   "metadata": {},
   "outputs": [
    {
     "name": "stdout",
     "output_type": "stream",
     "text": [
      "Configured environment for Lab D\n",
      "Opening GNSS data file:/home/jupyter-semmed/ESCI_OE_874/Data/Lab_A_GNSS.txt\n",
      "Opening motion data file:/home/jupyter-semmed/ESCI_OE_874/Data/Lab_A_MRU.txt\n",
      "Opening sound speed profile data file:/home/jupyter-semmed/ESCI_OE_874/Data/Lab_A_SVP.txt\n",
      "Data/data_ping_4170.txt\n",
      "Opening sound speed profile data file:Data/data_ping_4170.txt\n",
      "[[ 0.9393]\n",
      " [ -0.0351]\n",
      " [ 0.1114]]\n",
      "[[ 0.9393]\n",
      " [ -0.0351]\n",
      " [ 0.1114]]\n",
      "Vessel Metadata: name: USNS Henson\n",
      "owned_by: United States Navy\n",
      "operated_by: United States Navy\n",
      "loa: 100\n",
      "pos_source: NavCom (C-Nav)\n",
      "sonar: Kongsberg EM710\n",
      "mru: Applanix POS/MV 320\n",
      "dist_unit: m\n",
      "angle_unit: rad\n",
      "\n"
     ]
    }
   ],
   "source": [
    "%run -i LabD.py\n",
    "\n",
    "print(vessel)"
   ]
  },
  {
   "cell_type": "markdown",
   "metadata": {},
   "source": [
    "___\n",
    "## D2 Representing the Transmit and Receive Array\n",
    "\n",
    "For the directions it is helpful to represent the transducer arrays by unit vectors. Unit vectors have the unique property that the elements are the direction cosines with respect to the axis. We could proof this formally, but \n",
    "we will illustrate this at the hand of an example: the vector (1,1) has an angle of $1/4 \\pi$ radians and a length of $\\sqrt{2}$ Thus if we normalize the vector we end up with a vector $\\left(\\sqrt{2},\\sqrt{2}\\right)$ which has norm $1$. Similarly the $\\cos(1/4 \\pi) = \\sqrt{2}$. \n",
    "\n",
    "Thus it is very convenient to represent direction using unit vectors, the elements are direct measures of the angle that the vector makes with the coordinate axes. i.e. the first element represents the cosine of the angle of the vector with the first coordinate axis, the 2nd with the 2nd axis, etc.\n",
    "\n",
    "We will chose some directions of convenience - ideally the transmit transducer is aligned to the X-axis of a vessel thus a logical vector to represent its orientation is (1,0,0), ( the angle with the x-axis is zero, thus the first element is cos(0) = 1, the angle with the y- and z-axes is 90 degrees cos(90) = 0 thus our vector is (1, 0, 0)\n",
    "\n",
    "We will represent the ideal transmit and receive transducers with the variable `tx_ideal` and `rx_ideal` respectively\n",
    "\n",
    "In the `LabD.py` script add and complete the following \n",
    "\n",
    "    tx_ideal = np.array([[1],[0],[0]])\n",
    "    rx_ideal = np.array([...])\n"
   ]
  },
  {
   "cell_type": "code",
   "execution_count": 61,
   "metadata": {},
   "outputs": [
    {
     "name": "stdout",
     "output_type": "stream",
     "text": [
      "Configured environment for Lab D\n",
      "Opening GNSS data file:/home/jupyter-semmed/ESCI_OE_874/Data/Lab_A_GNSS.txt\n",
      "Opening motion data file:/home/jupyter-semmed/ESCI_OE_874/Data/Lab_A_MRU.txt\n",
      "Opening sound speed profile data file:/home/jupyter-semmed/ESCI_OE_874/Data/Lab_A_SVP.txt\n",
      "Data/data_ping_4170.txt\n",
      "Opening sound speed profile data file:Data/data_ping_4170.txt\n",
      "[[ 0.9393]\n",
      " [ -0.0351]\n",
      " [ 0.1114]]\n",
      "[[ 0.9393]\n",
      " [ -0.0351]\n",
      " [ 0.1114]]\n",
      "[[ 1.0000]\n",
      " [ 0.0000]\n",
      " [ 0.0000]]\n",
      "[[ 0.0000]\n",
      " [ 1.0000]\n",
      " [ 0.0000]]\n"
     ]
    }
   ],
   "source": [
    "%run -i LabD.py\n",
    "\n",
    "print( tx_ideal)\n",
    "print( rx_ideal)"
   ]
  },
  {
   "cell_type": "markdown",
   "metadata": {},
   "source": [
    "    Configered environment for Lab D\n",
    "    [[1]\n",
    "     [0]\n",
    "     [0]]\n",
    "    [[0]\n",
    "     [1]\n",
    "     [0]]\n"
   ]
  },
  {
   "cell_type": "markdown",
   "metadata": {},
   "source": [
    "___\n",
    "## D2.0 Representing the Transmit and Receive Array - Reality is Not Ideal\n",
    "\n",
    "Unfortunately reality is not ideal. The transducer will not be mounted quite orthogonal and not quite aligned to the vessel reference frame. We will have to deal with some mount angles that are deviations from the ideal vectors. In the case of the 'Henderson' these are known, so we may take them into account.\n",
    "\n",
    "In the `LabD.py` script add the following: \n",
    "    ma_tx=np.array([0.127,1.024,359.957-360])*pi/180  # Tx Mount angles \n",
    "    ma_rx=np.array([0.101,0.894,0.065])*pi/180    # Rx Mount angles \n",
    "\n"
   ]
  },
  {
   "cell_type": "code",
   "execution_count": 62,
   "metadata": {},
   "outputs": [
    {
     "name": "stdout",
     "output_type": "stream",
     "text": [
      "Configured environment for Lab D\n",
      "Opening GNSS data file:/home/jupyter-semmed/ESCI_OE_874/Data/Lab_A_GNSS.txt\n",
      "Opening motion data file:/home/jupyter-semmed/ESCI_OE_874/Data/Lab_A_MRU.txt\n",
      "Opening sound speed profile data file:/home/jupyter-semmed/ESCI_OE_874/Data/Lab_A_SVP.txt\n",
      "Data/data_ping_4170.txt\n",
      "Opening sound speed profile data file:Data/data_ping_4170.txt\n",
      "[[ 0.9393]\n",
      " [ -0.0351]\n",
      " [ 0.1114]]\n",
      "[[ 0.9393]\n",
      " [ -0.0351]\n",
      " [ 0.1114]]\n",
      "[ 0.0022  0.0179  -0.0008]\n",
      "[ 0.0018  0.0156  0.0011]\n"
     ]
    }
   ],
   "source": [
    "%run -i LabD.py\n",
    "\n",
    "print( ma_tx)\n",
    "print( ma_rx)"
   ]
  },
  {
   "cell_type": "markdown",
   "metadata": {},
   "source": [
    "    Configered environment for Lab D\n",
    "    [ 0.00221657  0.01787217 -0.00075049]\n",
    "    [0.00176278 0.01560324 0.00113446]"
   ]
  },
  {
   "cell_type": "markdown",
   "metadata": {},
   "source": [
    "___\n",
    "## D3 Parameters for Beam Forming\n",
    "\n",
    "In our case we will be reading data from a datagram collected with the Kongsberg system - all the data associated to the specific beam for the specific ping that we are interested in is contained in the data file `data_ping_4170.txt` that you may find in your `Data` folder.\n",
    "\n",
    "In our particular case you will be analyzing beam 391, we will keep track of that here so that you may later on extract the right information for the beam depression angle. We will also give you the sound speed at the transducer here, as you should not use the sound speed from the sound speed profile for that - that would create a significant error in your ray tracing.\n",
    "\n",
    "In the `LabD.py` script add the following:\n",
    "    ss_tx=1543.7                       \n",
    "    beam_select=391   "
   ]
  },
  {
   "cell_type": "code",
   "execution_count": 63,
   "metadata": {},
   "outputs": [
    {
     "name": "stdout",
     "output_type": "stream",
     "text": [
      "Configured environment for Lab D\n",
      "Opening GNSS data file:/home/jupyter-semmed/ESCI_OE_874/Data/Lab_A_GNSS.txt\n",
      "Opening motion data file:/home/jupyter-semmed/ESCI_OE_874/Data/Lab_A_MRU.txt\n",
      "Opening sound speed profile data file:/home/jupyter-semmed/ESCI_OE_874/Data/Lab_A_SVP.txt\n",
      "Data/data_ping_4170.txt\n",
      "Opening sound speed profile data file:Data/data_ping_4170.txt\n",
      "[[ 0.9393]\n",
      " [ -0.0351]\n",
      " [ 0.1114]]\n",
      "[[ 0.9393]\n",
      " [ -0.0351]\n",
      " [ 0.1114]]\n",
      "1543.7\n",
      "391\n"
     ]
    }
   ],
   "source": [
    "%run -i LabD.py\n",
    "\n",
    "print( ss_tx)\n",
    "print( beam_select)"
   ]
  },
  {
   "cell_type": "markdown",
   "metadata": {},
   "source": [
    "    Configered environment for Lab D\n",
    "    1543.7\n",
    "    391\n"
   ]
  },
  {
   "cell_type": "markdown",
   "metadata": {},
   "source": [
    "___\n",
    "## D4 Get the Positioning Data\n",
    "\n",
    "We will get the positioning data and store them in a `Position` object called `positions`. We will do this in the same fashion as in Lab A - the data file is called `Lab_A_GNSS.txt` is located in the Data folder, should be read with the `read_jhc_file` method:\n",
    "\n",
    "In the `LabD.py` script add and complete the following:\n",
    "    positions = Position()\n",
    "    positions.read_jhc_file(abs_path+...)"
   ]
  },
  {
   "cell_type": "code",
   "execution_count": 64,
   "metadata": {},
   "outputs": [
    {
     "name": "stdout",
     "output_type": "stream",
     "text": [
      "Configured environment for Lab D\n",
      "Opening GNSS data file:/home/jupyter-semmed/ESCI_OE_874/Data/Lab_A_GNSS.txt\n",
      "Opening motion data file:/home/jupyter-semmed/ESCI_OE_874/Data/Lab_A_MRU.txt\n",
      "Opening sound speed profile data file:/home/jupyter-semmed/ESCI_OE_874/Data/Lab_A_SVP.txt\n",
      "Data/data_ping_4170.txt\n",
      "Opening sound speed profile data file:Data/data_ping_4170.txt\n",
      "[[ 0.9393]\n",
      " [ -0.0351]\n",
      " [ 0.1114]]\n",
      "[[ 0.9393]\n",
      " [ -0.0351]\n",
      " [ 0.1114]]\n",
      "geodetic_units: rad\n",
      "height_units: m\n",
      "proj_units: m\n",
      "geoid_name: EGM08\n",
      "ellipsoid_name: WGS84\n",
      "height_relative_to: geoid\n",
      "time_basis: UTC\n",
      "proj_str: +proj=utm +zone=55 +north +ellps=WGS84 +datum=WGS84 +units=m +no_defs\n",
      "Minimum latitude       : 0.278496\n",
      "Maximum latitude       : 0.278564\n",
      "Minimum longitude      : 2.548137\n",
      "Maximum longitude      : 2.548780\n",
      "Minimum height         : 27.18m\n",
      "Maximum height         : 82.38m\n",
      "Start Time             : 2011-05-08 03:49:11+00:00\n",
      "End Time               : 2011-05-08 03:49:11+00:00\n",
      "\n"
     ]
    }
   ],
   "source": [
    "%run -i LabD.py\n",
    "\n",
    "print( positions)"
   ]
  },
  {
   "cell_type": "markdown",
   "metadata": {},
   "source": [
    "    Configered environment for Lab D\n",
    "    Opening GNSS data file:/home/jupyter-semmed/ESCI_OE_874/Data/Lab_A_GNSS.txt\n",
    "    geodetic_units: rad\n",
    "    height_units: m\n",
    "    proj_units: m\n",
    "    geoid_name: EGM08\n",
    "    ellipsoid_name: WGS84\n",
    "    height_relative_to: geoid\n",
    "    time_basis: UTC\n",
    "    proj_str: None\n",
    "    Minimum latitude       : 0.278496\n",
    "    Maximum latitude       : 0.278564\n",
    "    Minimum longitude      : 2.548137\n",
    "    Maximum longitude      : 2.548780\n",
    "    Minimum height         : 27.18m\n",
    "    Maximum height         : 82.38m\n",
    "    Start Time             : 2011-05-08 03:49:11+00:00\n",
    "    End Time               : 2011-05-08 03:49:11+00:00\n",
    "\n"
   ]
  },
  {
   "cell_type": "markdown",
   "metadata": {},
   "source": [
    "___\n",
    "## D4.0 Squaring the Positioning Data Away\n",
    "\n",
    "As we saw in lab A we want to do our calculations in a Cartesian world if we can. Thus, just like in that lab, we want to transform our coordinates to UTM coordinates. For this we will use the `Position` class `carto_project` method\n",
    "\n",
    "In the `LabD.py` script add the following:\n",
    "\n",
    "    positions.carto_project(\"UTM\", \"ortho\")"
   ]
  },
  {
   "cell_type": "code",
   "execution_count": 65,
   "metadata": {},
   "outputs": [
    {
     "name": "stdout",
     "output_type": "stream",
     "text": [
      "Configured environment for Lab D\n",
      "Opening GNSS data file:/home/jupyter-semmed/ESCI_OE_874/Data/Lab_A_GNSS.txt\n",
      "Opening motion data file:/home/jupyter-semmed/ESCI_OE_874/Data/Lab_A_MRU.txt\n",
      "Opening sound speed profile data file:/home/jupyter-semmed/ESCI_OE_874/Data/Lab_A_SVP.txt\n",
      "Data/data_ping_4170.txt\n",
      "Opening sound speed profile data file:Data/data_ping_4170.txt\n",
      "[[ 0.9393]\n",
      " [ -0.0351]\n",
      " [ 0.1114]]\n",
      "[[ 0.9393]\n",
      " [ -0.0351]\n",
      " [ 0.1114]]\n",
      "[[ 392719.3368  392724.8274  392730.7915 ...  392723.9758  392718.4610\n",
      "   392713.0224]\n",
      " [ 1764811.7544  1764811.9935  1764812.2945 ...  1764405.1255\n",
      "   1764405.2317  1764405.3961]\n",
      " [ 28.8950  29.1460  28.9800 ...  28.8460  28.7760  82.3750]]\n"
     ]
    }
   ],
   "source": [
    "%run -i LabD.py\n",
    "\n",
    "print( positions.proj_pos)"
   ]
  },
  {
   "cell_type": "markdown",
   "metadata": {},
   "source": [
    "    Configured environment for Lab D\n",
    "    Opening GNSS data file:/home/jupyter-semmed/ESCI_OE_874/Data/Lab_A_GNSS.txt\n",
    "    [[3.92719337e+05 3.92724827e+05 3.92730791e+05 ... 3.92723976e+05\n",
    "      3.92718461e+05 3.92713022e+05]\n",
    "     [1.76481175e+06 1.76481199e+06 1.76481229e+06 ... 1.76440513e+06\n",
    "      1.76440523e+06 1.76440540e+06]\n",
    "     [2.88950000e+01 2.91460000e+01 2.89800000e+01 ... 2.88460000e+01\n",
    "      2.87760000e+01 8.23750000e+01]]\n"
   ]
  },
  {
   "cell_type": "markdown",
   "metadata": {},
   "source": [
    "___\n",
    "## D5 Get the Motion Data\n",
    "\n",
    "We will get the motion data and store them in a `Motion` object called `motions`. Just like the positioning we will do this in the same fashion as in Lab A - the data file is called `Lab_A_MRU.txt` is located in the Data folder and should be read with the `read_jhc_file` method:\n",
    "\n",
    "In the `LabD.py` script add and complete the following:\n",
    "\n",
    "    positions = Position()\n",
    "    positions.read_jhc_file(...)"
   ]
  },
  {
   "cell_type": "code",
   "execution_count": 66,
   "metadata": {},
   "outputs": [
    {
     "name": "stdout",
     "output_type": "stream",
     "text": [
      "Configured environment for Lab D\n",
      "Opening GNSS data file:/home/jupyter-semmed/ESCI_OE_874/Data/Lab_A_GNSS.txt\n",
      "Opening motion data file:/home/jupyter-semmed/ESCI_OE_874/Data/Lab_A_MRU.txt\n",
      "Opening sound speed profile data file:/home/jupyter-semmed/ESCI_OE_874/Data/Lab_A_SVP.txt\n",
      "Data/data_ping_4170.txt\n",
      "Opening sound speed profile data file:Data/data_ping_4170.txt\n",
      "[[ 0.9393]\n",
      " [ -0.0351]\n",
      " [ 0.1114]]\n",
      "[[ 0.9393]\n",
      " [ -0.0351]\n",
      " [ 0.1114]]\n",
      "Start time: 2011-05-08 03:49:10.572000+00:00\n",
      "End time:   2011-05-08 04:12:27.053000+00:00\n",
      "angle__units: rad\n",
      "distance_units: m\n",
      "time_basis: UTC\n",
      "Source File: /home/jupyter-semmed/ESCI_OE_874/Data/Lab_A_MRU.txt\n",
      "\n"
     ]
    }
   ],
   "source": [
    "%run -i LabD.py\n",
    "\n",
    "print(motions)"
   ]
  },
  {
   "cell_type": "markdown",
   "metadata": {},
   "source": [
    "    Configured environment for Lab D\n",
    "    Opening GNSS data file:/home/jupyter-semmed/ESCI_OE_874/Data/Lab_A_GNSS.txt\n",
    "    Opening motion data file:/home/jupyter-semmed/ESCI_OE_874/Data/Lab_A_MRU.txt\n",
    "    Start time: 2011-05-08 03:49:10.572000+00:00\n",
    "    End time:   2011-05-08 04:12:27.053000+00:00\n",
    "    angle__units: rad\n",
    "    distance_units: m\n",
    "    time_basis: UTC\n",
    "    Source File: /home/jupyter-semmed/ESCI_OE_874/Data/Lab_A_MRU.txt\n",
    "\n"
   ]
  },
  {
   "cell_type": "markdown",
   "metadata": {},
   "source": [
    "___\n",
    "## D6 Get the Sound Speed Data\n",
    "\n",
    "We will get the sound speed data and store them in a `SSP` object called `ssp`. This time the data file is called `Lab_A_SVP.txt` and is located in the Data folder. You should read it with the `read_jhc_file` method which you may add to the SSP class.\n",
    "\n",
    "    def read_jhc_file(self, fullpath):\n",
    "        # Check to see whether data already exists in the object\n",
    "        \n",
    "        if self.obs_depths:\n",
    "            raise RuntimeError('SSP object already contains a profile')\n",
    "            \n",
    "        # Check the File's existence\n",
    "        if os.path.exists(fullpath):\n",
    "            self.metadata[\"Source File\"] = fullpath\n",
    "            print('Opening sound speed profile data file:' + fullpath)\n",
    "        else:  # Raise a meaningful error\n",
    "            raise RuntimeError('Unable to locate the input file' + fullpath)\n",
    "\n",
    "        # Open, read and close the file\n",
    "        svp_file = open(fullpath)\n",
    "        svp_content = svp_file.read()\n",
    "        svp_file.close\n",
    "\n",
    "        # Tokenize the contents\n",
    "        svp_lines = svp_content.splitlines()\n",
    "        self.obs_time = datetime.fromtimestamp(\n",
    "            float(svp_lines[1].split()[0]), timezone.utc)\n",
    "        self.log_time = datetime.fromtimestamp(\n",
    "            float(svp_lines[2].split()[0]), timezone.utc)\n",
    "        self.obs_latitude = float(svp_lines[3].split()[0])\n",
    "        self.obs_longitude = float(svp_lines[3].split()[1])\n",
    "        self.vessel_latitude = float(svp_lines[4].split()[0])\n",
    "        self.vessel_longitude = float(svp_lines[4].split()[1])\n",
    "        self.metadata[\"count\"] = int(svp_lines[5].split()[0])\n",
    "\n",
    "        count = 0  # initialize the counter for the number of rows read\n",
    "\n",
    "        for svp_line in svp_lines[16:]:\n",
    "            observations = svp_line.split()  # Tokenize the stringS\n",
    "            self.obs_sample.append(float(observations[0]))\n",
    "            self.obs_depths.append(float(observations[1]))\n",
    "            self.obs_ss.append(float(observations[2]))\n",
    "            count += 1\n",
    "\n",
    "        if self.metadata[\"count\"] != count:\n",
    "            raise RuntimeError('Nr of Samples read ('+str(count) +\n",
    "                               ') does not match metadata count (' +\n",
    "                               str(self.metadata[\"count\"])+')')\n",
    "\n",
    "        # Process the data - in the jhc data files this is already a one-way profile,\n",
    "        # this just for illustration\n",
    "        array_ss = np.zeros((count, 3))\n",
    "\n",
    "        # Sort the data samples by depth\n",
    "        sorted_ss = sorted(zip(self.obs_depths, self.obs_ss))\n",
    "        \n",
    "        layer = 0\n",
    "        for d, ss in sorted_ss:\n",
    "            array_ss[[layer], [0]] = d\n",
    "            array_ss[[layer], [1]] = ss\n",
    "            layer += 1\n",
    "\n",
    "        # Identify all the depths for which there are multiple observations\n",
    "        mask = np.full((count, 1), True)\n",
    "        mask[1:, [0]] = np.diff(array_ss[:, [0]], axis=0) != 0\n",
    "        \n",
    "        # Remove the duplicates - You really should get statistical representations here\n",
    "        # but to keep this short just remove the duplicates\n",
    "        array_ss = array_ss[mask[:, 0], ...]\n",
    "        \n",
    "        # Determine the gradients - Note the indexing: the gradient of the first layer \n",
    "        # is contained at the same index as the data for the TOP of the layer.\n",
    "        array_ss[0:-1, [2]] = np.diff(array_ss[:, [1]],\n",
    "                                          axis=0)/np.diff(array_ss[:, [0]], axis=0)\n",
    "\n",
    "        # Estimate gradient for last layer assuming that the temperature and salinity remain the same\n",
    "        # gradient solely a function of pressure (depth)\n",
    "        array_ss[-1, [2]] = 0.017\n",
    "\n",
    "        # Extend to 12000 m if necesarry - this is to get around some manufcturers requirements\n",
    "        if self.obs_depths[-1] < 12000:\n",
    "            ss = array_ss[-1:, [1]] + array_ss[-1:, [2]] \\\n",
    "             * (12000-array_ss[-1:, [0]])\n",
    "            array_ss = np.vstack((array_ss, [12000, ss, 0.017]))\n",
    "            \n",
    "        # Make sure that the last gradient is 0.017\n",
    "        array_ss[-1,2] = 0.017\n",
    "\n",
    "        # Extend to 0 m if necesarry - assume well mixed\n",
    "        if self.obs_depths[0] > 0:\n",
    "            array_ss = np.vstack(\n",
    "                ([0, array_ss[0, [1]], 0.], array_ss))\n",
    "            \n",
    "        # Step 5 Create a look-up array of twtts for each full layer\n",
    "        # Allows for great gain in efficiency (do not have to calculate for each ping)\n",
    "        self.twtt_layer = np.zeros((count, 1))\n",
    "        \n",
    "        for layer in range(0,self.metadata[\"count\"]-1):\n",
    "            if array_ss[layer, [2]] == 0:\n",
    "                self.twtt_layer[layer] = 2 * \\\n",
    "                    (array_ss[layer+1, [0]] - array_ss[layer, [0]])/ \\\n",
    "                     array_ss[layer, [1]]\n",
    "            else:\n",
    "                self.twtt_layer[layer] = 2 / array_ss[layer, [2]] * \\\n",
    "                 log(array_ss[layer+1, [1]]/array_ss[layer, [1]])\n",
    "        \n",
    "        self.proc_ss = array_ss[:,1]\n",
    "        self.proc_depth = array_ss[:,0]\n",
    "        self.g = np.diff(self.proc_ss)/np.diff(self.proc_depth)\n",
    "        self.g[self.g == 0] = .24\n",
    "        \n",
    "        # Updating the Profile\n",
    "        for i in range(1,len(self.g)):\n",
    "            self.proc_ss[i]=self.proc_ss[i-1]+(self.proc_depth[i] - self.proc_depth[i-1])*self.g[i-1]\n",
    "\n",
    "\n",
    "In the `LabD.py` script add and complete the following:\n",
    "\n",
    "    ssp = ...\n",
    "    ssp.read_jhc_file(...)"
   ]
  },
  {
   "cell_type": "code",
   "execution_count": 67,
   "metadata": {},
   "outputs": [
    {
     "name": "stdout",
     "output_type": "stream",
     "text": [
      "Configured environment for Lab D\n",
      "Opening GNSS data file:/home/jupyter-semmed/ESCI_OE_874/Data/Lab_A_GNSS.txt\n",
      "Opening motion data file:/home/jupyter-semmed/ESCI_OE_874/Data/Lab_A_MRU.txt\n",
      "Opening sound speed profile data file:/home/jupyter-semmed/ESCI_OE_874/Data/Lab_A_SVP.txt\n",
      "Data/data_ping_4170.txt\n",
      "Opening sound speed profile data file:Data/data_ping_4170.txt\n",
      "[[ 0.9393]\n",
      " [ -0.0351]\n",
      " [ 0.1114]]\n",
      "[[ 0.9393]\n",
      " [ -0.0351]\n",
      " [ 0.1114]]\n",
      "[ 0.0000  2.0000  3.0000  4.0000  5.0000  6.0000  7.0000  8.0000  9.0000\n",
      "  10.0000  11.0000  12.0000  13.0000  14.0000  15.0000  16.0000  17.0000\n",
      "  18.0000  19.0000  20.0000  21.0000  22.0000  23.0000  24.0000  25.0000\n",
      "  26.0000  27.0000  28.0000  29.0000  30.0000  31.0000  32.0000  33.0000\n",
      "  34.0000  35.0000  36.0000  37.0000  38.0000  39.0000  40.0000  41.0000\n",
      "  42.0000  43.0000  44.0000  45.0000  46.0000  47.0000  48.0000  49.0000\n",
      "  50.0000  51.0000  52.0000  53.0000  54.0000  55.0000  56.0000  57.0000\n",
      "  58.0000  59.0000  60.0000  61.0000  62.0000  63.0000  64.0000  65.0000\n",
      "  66.0000  67.0000  68.0000  69.0000  70.0000  71.0000  72.0000  73.0000\n",
      "  74.0000  75.0000  76.0000  77.0000  78.0000  79.0000  80.0000  81.0000\n",
      "  82.0000  83.0000  84.0000  85.0000  86.0000  87.0000  88.0000  89.0000\n",
      "  90.0000  91.0000  92.0000  93.0000  94.0000  95.0000  96.0000  97.0000\n",
      "  98.0000  99.0000  12000.0000]\n"
     ]
    }
   ],
   "source": [
    "%run -i LabD.py\n",
    "\n",
    "print(ssp.proc_depth)"
   ]
  },
  {
   "cell_type": "markdown",
   "metadata": {},
   "source": [
    "    Configured environment for Lab D\n",
    "    Opening GNSS data file:/home/jupyter-semmed/ESCI_OE_874/Data/Lab_A_GNSS.txt\n",
    "    Opening motion data file:/home/jupyter-semmed/ESCI_OE_874/Data/Lab_A_MRU.txt\n",
    "    Opening sound speed profile data file:/home/jupyter-semmed/ESCI_OE_874/Data/Lab_A_SVP.txt\n",
    "    [0.0e+00 2.0e+00 3.0e+00 4.0e+00 5.0e+00 6.0e+00 7.0e+00 8.0e+00 9.0e+00\n",
    "     1.0e+01 1.1e+01 1.2e+01 1.3e+01 1.4e+01 1.5e+01 1.6e+01 1.7e+01 1.8e+01\n",
    "     1.9e+01 2.0e+01 2.1e+01 2.2e+01 2.3e+01 2.4e+01 2.5e+01 2.6e+01 2.7e+01\n",
    "     2.8e+01 2.9e+01 3.0e+01 3.1e+01 3.2e+01 3.3e+01 3.4e+01 3.5e+01 3.6e+01\n",
    "     3.7e+01 3.8e+01 3.9e+01 4.0e+01 4.1e+01 4.2e+01 4.3e+01 4.4e+01 4.5e+01\n",
    "     4.6e+01 4.7e+01 4.8e+01 4.9e+01 5.0e+01 5.1e+01 5.2e+01 5.3e+01 5.4e+01\n",
    "     5.5e+01 5.6e+01 5.7e+01 5.8e+01 5.9e+01 6.0e+01 6.1e+01 6.2e+01 6.3e+01\n",
    "     6.4e+01 6.5e+01 6.6e+01 6.7e+01 6.8e+01 6.9e+01 7.0e+01 7.1e+01 7.2e+01\n",
    "     7.3e+01 7.4e+01 7.5e+01 7.6e+01 7.7e+01 7.8e+01 7.9e+01 8.0e+01 8.1e+01\n",
    "     8.2e+01 8.3e+01 8.4e+01 8.5e+01 8.6e+01 8.7e+01 8.8e+01 8.9e+01 9.0e+01\n",
    "     9.1e+01 9.2e+01 9.3e+01 9.4e+01 9.5e+01 9.6e+01 9.7e+01 9.8e+01 9.9e+01\n",
    "     1.2e+04]"
   ]
  },
  {
   "cell_type": "markdown",
   "metadata": {},
   "source": [
    "___\n",
    "## D7 Get the Ping Data\n",
    "\n",
    "<img align=\"center\" width=\"80%\" style=\"padding-right:10px;\" src=\"./Images/ping.png\">\n",
    "\n",
    "A single file *data_ping_4170.txt* is supplied which, together with the orientation and offsets will allow you to do the full calculation.\n",
    "\n",
    "What information do you have on the transmit sector for the beam you chose?\n",
    "From the data telegram, there is lots of other information that is provided about each sector. The only things you need are:\n",
    "\n",
    "- the transmit steering angle and\n",
    "- the time delay between the first sector firing and the one you have chosen.\n",
    "\n",
    "Your actual time of transmission is the nominal time of the swath PLUS the extra delay while it waits for the other sectors to fire. For example, Sector 1 fired first (at the specified time). Sector 0 fires 0.4ms later and Sector 2 fire another 0.4ms after that (0.8ms w.r.t the central sector).\n",
    "\n",
    "To save you some time a `Ping` class has been created for you - you may find it in your `mycode` folder and it is already included in the dependencies.\n",
    "\n",
    "\n",
    "In the `LabD.py` script add and complete the following:\n",
    "\n",
    "    ssp = ...\n",
    "    ssp.read_jhc_file(...)"
   ]
  },
  {
   "cell_type": "code",
   "execution_count": 68,
   "metadata": {},
   "outputs": [
    {
     "name": "stdout",
     "output_type": "stream",
     "text": [
      "Configured environment for Lab D\n",
      "Opening GNSS data file:/home/jupyter-semmed/ESCI_OE_874/Data/Lab_A_GNSS.txt\n",
      "Opening motion data file:/home/jupyter-semmed/ESCI_OE_874/Data/Lab_A_MRU.txt\n",
      "Opening sound speed profile data file:/home/jupyter-semmed/ESCI_OE_874/Data/Lab_A_SVP.txt\n",
      "Data/data_ping_4170.txt\n",
      "Opening sound speed profile data file:Data/data_ping_4170.txt\n",
      "[[ 0.9393]\n",
      " [ -0.0351]\n",
      " [ 0.1114]]\n",
      "[[ 0.9393]\n",
      " [ -0.0351]\n",
      " [ 0.1114]]\n",
      "Ping     : 4170\n",
      "Latitude : 15.957991°\n",
      "Longitude: 146.03402800000003°\n",
      "Roll     : -1.054242°\n",
      "Pitch    : 2.0454589999999997°\n",
      "Headding : 215.529534°\n",
      "Heave    : -0.542 [m]\n",
      "Tx Time  : 04:01:06  May 8, 2011\n",
      "\n",
      "3 Sectors --- \n",
      "--- Sector 0\n",
      "Tx Tilt Angle   : -1.91°\n",
      "Focus Range     : 146.7 [m]\n",
      "Signal Length   : 0.0003 [s]\n",
      "Tx time offset  : 0.0004 [s]\n",
      "Tx central freq : 73000.0 [Hz]\n",
      "Mean att coeff  : 20.36 [dB/km]\n",
      "Waveform ID     : 0\n",
      "Tx bandwidth    : 5000.0 [Hz]\n",
      "--- Sector 1\n",
      "Tx Tilt Angle   : -2.91°\n",
      "Focus Range     : 101.1 [m]\n",
      "Signal Length   : 0.0003 [s]\n",
      "Tx time offset  : 0.0 [s]\n",
      "Tx central freq : 89000.0 [Hz]\n",
      "Mean att coeff  : 28.56 [dB/km]\n",
      "Waveform ID     : 0\n",
      "Tx bandwidth    : 5000.0 [Hz]\n",
      "--- Sector 2\n",
      "Tx Tilt Angle   : -1.91°\n",
      "Focus Range     : 146.4 [m]\n",
      "Signal Length   : 0.0003 [s]\n",
      "Tx time offset  : 0.0008 [s]\n",
      "Tx central freq : 73000.0 [Hz]\n",
      "Mean att coeff  : 20.36 [dB/km]\n",
      "Waveform ID     : 0\n",
      "Tx bandwidth    : 5000.0 [Hz]\n",
      "\n",
      "---\n",
      "Beam 0 data:\n",
      "Beam nr        : 0\n",
      "Across dist    : -160.1 [m]\n",
      "Along dist     : 15.12 [m]\n",
      "Depth          : -97.92 [m]\n",
      "Sample nr      : 3300.0\n",
      "TWTT           : 0.237615 [s]\n",
      "Slant range    : 356.4 [m]\n",
      "Rx steer angle : 1.0725048253505156°\n",
      "Sector id      : 0.0\n",
      "Tx steer angle : -0.033335788713091695°\n",
      "Time delay     : 0:00:00.000400 [m]\n",
      "Central freq   : 73000.0 [Hz]\n",
      "\n"
     ]
    }
   ],
   "source": [
    "%run -i LabD.py\n",
    "\n",
    "print(ping)"
   ]
  },
  {
   "cell_type": "markdown",
   "metadata": {},
   "source": [
    "___\n",
    "## D7.0 Indexing the Ping Data\n",
    "\n",
    "As you can see from the output above the data comes with a header that describes the properties of three sectors. In the figure above you can see that this sector data is followed by a table of beam specific data. One thing to realize is that the beam number is associated to a specific beam, not the line number of the data in the table. To clarifu it may be that beams 1,2,4 and, 5 were processed successfully, but beam 3 failed. The data for beam 3 is then not included in the table. This has a result that the data for beams 1 and 2 are in records 1 and 2, but the data for beams 4 and 5 are in records 3 and 4 respectively. \n",
    "\n",
    "Thus we need a mechanism to identify the proper record, fortunately the `Ping` class comes with the `get_beam_index` method that allows us to find the record index associated to our selected beam `beam_select`\n",
    "\n",
    "In the LabD.py script add the following:\n",
    "\n",
    "    i = ping.get_beam_index(beam_select)\n"
   ]
  },
  {
   "cell_type": "code",
   "execution_count": 69,
   "metadata": {},
   "outputs": [
    {
     "name": "stdout",
     "output_type": "stream",
     "text": [
      "Configured environment for Lab D\n",
      "Opening GNSS data file:/home/jupyter-semmed/ESCI_OE_874/Data/Lab_A_GNSS.txt\n",
      "Opening motion data file:/home/jupyter-semmed/ESCI_OE_874/Data/Lab_A_MRU.txt\n",
      "Opening sound speed profile data file:/home/jupyter-semmed/ESCI_OE_874/Data/Lab_A_SVP.txt\n",
      "Data/data_ping_4170.txt\n",
      "Opening sound speed profile data file:Data/data_ping_4170.txt\n",
      "[[ 0.9393]\n",
      " [ -0.0351]\n",
      " [ 0.1114]]\n",
      "[[ 0.9393]\n",
      " [ -0.0351]\n",
      " [ 0.1114]]\n",
      "391\n"
     ]
    }
   ],
   "source": [
    "%run -i LabD.py\n",
    "\n",
    "print(i)"
   ]
  },
  {
   "cell_type": "markdown",
   "metadata": {},
   "source": [
    "    Configured environment for Lab D\n",
    "    Opening GNSS data file:/home/jupyter-semmed/ESCI_OE_874/Data/Lab_A_GNSS.txt\n",
    "    Opening motion data file:/home/jupyter-semmed/ESCI_OE_874/Data/Lab_A_MRU.txt\n",
    "    Opening sound speed profile data file:/home/jupyter-semmed/ESCI_OE_874/Data/Lab_A_SVP.txt\n",
    "    Data/data_ping_4170.txt\n",
    "    Opening sound speed profile data file:Data/data_ping_4170.txt\n",
    "    391\n"
   ]
  },
  {
   "cell_type": "markdown",
   "metadata": {},
   "source": [
    "To use analyze beam data we may now use the index that we found, which in this case is the same as the beam number itself. For example, we may interested in what the sector time delay is for the beam of interest, we may find this using: \n",
    "\n",
    "    ping.tx_t_offset_beam[i]\n",
    "    \n",
    "Which will result in a `timedelta` "
   ]
  },
  {
   "cell_type": "code",
   "execution_count": 70,
   "metadata": {},
   "outputs": [
    {
     "name": "stdout",
     "output_type": "stream",
     "text": [
      "0:00:00.000800\n"
     ]
    }
   ],
   "source": [
    "print(ping.tx_t_offset_beam[i])"
   ]
  },
  {
   "cell_type": "markdown",
   "metadata": {},
   "source": [
    "    0:00:00.000800"
   ]
  },
  {
   "cell_type": "markdown",
   "metadata": {},
   "source": [
    "___\n",
    "## D8 Timing it Right\n",
    "\n",
    "<img align=\"center\" width=\"80%\" style=\"padding-right:10px;\" src=\"./Images/timing.bmp\">\n",
    "\n",
    "As you saw in Lab A all the integration is done based on time. We will need to know how the transducer are oriented at both the time of transmit and reception. Thus the first thing that we need to so is to determine what those points in time are. The ping time is contained in the variable `ping.tx_time`\n",
    "\n",
    "In the `LabD.py` script add the following:\n",
    "\n",
    "    t_tx = ping.tx_time+ping.tx_t_offset_beam[i]\n",
    "    t_rx = t_tx+timedelta(0,ping.twtt[i])\n",
    "\n",
    "What the code above does is to determine the time `t_tx` associated to the transmit, `ping.tx_time` is a `datetime` object and `ping.tx_t_offset_beam[i]` is a `timedelta` object, which allows us to handle the time more easily (I strongly suggest that you look at the `Ping` class implementation to gather greater understanding.\n",
    "\n",
    "The next line then adds the TWTT for the beam to the transmit time to determine the reception time `t_rx`. However, `ping.twtt[i]` is a simple float and thus needs to be transformed to a `timedelta` before we may add it to `t_tx`.\n",
    "\n",
    "\n",
    "\n"
   ]
  },
  {
   "cell_type": "code",
   "execution_count": 71,
   "metadata": {},
   "outputs": [
    {
     "name": "stdout",
     "output_type": "stream",
     "text": [
      "Configured environment for Lab D\n",
      "Opening GNSS data file:/home/jupyter-semmed/ESCI_OE_874/Data/Lab_A_GNSS.txt\n",
      "Opening motion data file:/home/jupyter-semmed/ESCI_OE_874/Data/Lab_A_MRU.txt\n",
      "Opening sound speed profile data file:/home/jupyter-semmed/ESCI_OE_874/Data/Lab_A_SVP.txt\n",
      "Data/data_ping_4170.txt\n",
      "Opening sound speed profile data file:Data/data_ping_4170.txt\n",
      "[[ 0.9393]\n",
      " [ -0.0351]\n",
      " [ 0.1114]]\n",
      "[[ 0.9393]\n",
      " [ -0.0351]\n",
      " [ 0.1114]]\n",
      "2011-05-08 04:01:06.555800+00:00\n",
      "2011-05-08 04:01:06.785567+00:00\n"
     ]
    }
   ],
   "source": [
    "%run -i LabD.py\n",
    "\n",
    "print(t_tx)\n",
    "print(t_rx)"
   ]
  },
  {
   "cell_type": "markdown",
   "metadata": {},
   "source": [
    "    Configured environment for Lab D\n",
    "    Opening GNSS data file:/home/jupyter-semmed/ESCI_OE_874/Data/Lab_A_GNSS.txt\n",
    "    Opening motion data file:/home/jupyter-semmed/ESCI_OE_874/Data/Lab_A_MRU.txt\n",
    "    Opening sound speed profile data file:/home/jupyter-semmed/ESCI_OE_874/Data/Lab_A_SVP.txt\n",
    "    Data/data_ping_4170.txt\n",
    "    Opening sound speed profile data file:Data/data_ping_4170.txt\n",
    "    2011-05-08 04:01:06.555800+00:00\n",
    "    2011-05-08 04:01:06.785567+00:00"
   ]
  },
  {
   "cell_type": "markdown",
   "metadata": {},
   "source": [
    "___\n",
    "## D9 Getting the Motion Data for our Epochs\n",
    "\n",
    "Now that we have the time we can orient the transducers at the time of transmit and reception. Unlike in lab A we only need to do this for a single set of transmit and receive epochs, however the same methods may be used. In our case we will add a few methods to the `Motion` class that will allow us to gather the right information\n",
    "\n"
   ]
  },
  {
   "cell_type": "markdown",
   "metadata": {},
   "source": [
    "___\n",
    "## D9.0 Getting Motion Vectors\n",
    "\n",
    "The first thing that we are interested in is the orientation of the vessel at specific epochs - we will add the method\n",
    "`get_motion` to the `Motion` class. This method will take a `datetime` argument an return the motion as a one dimensional `numpy` array. The order will be the rotation around the x-axis, y-axis, z-axis and the heave.\n",
    "\n",
    "The implementation is really the same process that we used in the `Integration` class of Lab A.\n",
    "\n",
    "\n",
    "**NOTE: IF YOU TOOK ESCI 872 YOU WILL ALREADY HAVE THIS METHOD**\n",
    "\n",
    "    def get_motion(self, time = datetime.fromtimestamp(0, timezone.utc)):\n",
    "\n",
    "        # Allocate Memory\n",
    "        attitude = np.zeros(4)\n",
    "        \n",
    "        # 7.10.2 Map the Input Times to POSIX Times\n",
    "        times = np.array([e.timestamp() for e in self.times])\n",
    "        \n",
    "        attitude[0] = np.interp(time.timestamp(), times, self.roll)\n",
    "        attitude[1] = np.interp(time.timestamp(), times, self.pitch)\n",
    "        attitude[2] = np.interp(time.timestamp(), times, self.yaw)\n",
    "        attitude[3] = np.interp(time.timestamp(), times, self.heave)\n",
    "\n",
    "\n",
    "In the LabD.py script add and complete the following:\n",
    "\n",
    "    att_tx = motions.get_motion(t_tx)\n",
    "    att_rx = motions.get_motion(...)"
   ]
  },
  {
   "cell_type": "code",
   "execution_count": 72,
   "metadata": {},
   "outputs": [
    {
     "name": "stdout",
     "output_type": "stream",
     "text": [
      "Configured environment for Lab D\n",
      "Opening GNSS data file:/home/jupyter-semmed/ESCI_OE_874/Data/Lab_A_GNSS.txt\n",
      "Opening motion data file:/home/jupyter-semmed/ESCI_OE_874/Data/Lab_A_MRU.txt\n",
      "Opening sound speed profile data file:/home/jupyter-semmed/ESCI_OE_874/Data/Lab_A_SVP.txt\n",
      "Data/data_ping_4170.txt\n",
      "Opening sound speed profile data file:Data/data_ping_4170.txt\n",
      "[[ 0.9393]\n",
      " [ -0.0351]\n",
      " [ 0.1114]]\n",
      "[[ 0.9393]\n",
      " [ -0.0351]\n",
      " [ 0.1114]]\n",
      "[ -0.0188  0.0365  3.7564  0.0378]\n",
      "[ -0.0277  0.0356  3.7634  0.1400]\n"
     ]
    }
   ],
   "source": [
    "%run -i LabD.py\n",
    "\n",
    "print(att_tx)\n",
    "print(att_rx)"
   ]
  },
  {
   "cell_type": "markdown",
   "metadata": {},
   "source": [
    "    Configured environment for Lab D\n",
    "    Opening GNSS data file:/home/jupyter-semmed/ESCI_OE_874/Data/Lab_A_GNSS.txt\n",
    "    Opening motion data file:/home/jupyter-semmed/ESCI_OE_874/Data/Lab_A_MRU.txt\n",
    "    Opening sound speed profile data file:/home/jupyter-semmed/ESCI_OE_874/Data/Lab_A_SVP.txt\n",
    "    Data/data_ping_4170.txt\n",
    "    Opening sound speed profile data file:Data/data_ping_4170.txt\n",
    "    [ -0.0188  0.0365  3.7564  0.0378]\n",
    "    [ -0.0277  0.0356  3.7634  0.1400]\n"
   ]
  },
  {
   "cell_type": "markdown",
   "metadata": {},
   "source": [
    "___\n",
    "## D9.1 Getting Orientation Matrices\n",
    "\n",
    "For many of our purposes it makes more sense to use a rotation matrix to represent our orientation and leave out the heave, which is a translational motion. For this you should add the following method to your `Motion` class\n",
    "\n",
    "    def get_rotation_matrix(self, time = datetime.fromtimestamp(0, timezone.utc)):\n",
    "        # 7.11.1 Determining the Attitude\n",
    "        att = self.get_motion(time)\n",
    "\n",
    "        Rx = np.array([[1, 0,            0          ],\n",
    "                       [0, cos(att[0]), -sin(att[0])],\n",
    "                       [0, sin(att[0]),  cos(att[0])]])\n",
    "\n",
    "        Ry = np.array([[ cos(att[1]),  0, sin(att[1])],\n",
    "                       [ 0          ,  1, 0          ],\n",
    "                       [-sin(att[1]),  0, cos(att[1])]])\n",
    "\n",
    "        Rz = np.array([[cos(att[2]), -sin(att[2]), 0],\n",
    "                       [sin(att[2]),  cos(att[2]), 0],\n",
    "                       [0          ,  0          , 1]])\n",
    "\n",
    "\n",
    "In the LabD.py script add and complete the following:\n",
    "\n",
    "    R_tx = motions.get_rot_matrix(t_tx)\n",
    "    R_rx = motions....()"
   ]
  },
  {
   "cell_type": "code",
   "execution_count": 73,
   "metadata": {},
   "outputs": [
    {
     "name": "stdout",
     "output_type": "stream",
     "text": [
      "Configured environment for Lab D\n",
      "Opening GNSS data file:/home/jupyter-semmed/ESCI_OE_874/Data/Lab_A_GNSS.txt\n",
      "Opening motion data file:/home/jupyter-semmed/ESCI_OE_874/Data/Lab_A_MRU.txt\n",
      "Opening sound speed profile data file:/home/jupyter-semmed/ESCI_OE_874/Data/Lab_A_SVP.txt\n",
      "Data/data_ping_4170.txt\n",
      "Opening sound speed profile data file:Data/data_ping_4170.txt\n",
      "[[ 0.9393]\n",
      " [ -0.0351]\n",
      " [ 0.1114]]\n",
      "[[ 0.9393]\n",
      " [ -0.0351]\n",
      " [ 0.1114]]\n",
      "[[ -0.8163  0.5773  -0.0190]\n",
      " [ -0.5764  -0.8163  -0.0364]\n",
      " [ -0.0365  -0.0188  0.9992]]\n",
      "[[ -0.8123  0.5831  -0.0128]\n",
      " [ -0.5821  -0.8120  -0.0432]\n",
      " [ -0.0356  -0.0276  0.9990]]\n"
     ]
    }
   ],
   "source": [
    "%run -i LabD.py\n",
    "\n",
    "print(R_tx)\n",
    "print(R_rx)"
   ]
  },
  {
   "cell_type": "markdown",
   "metadata": {},
   "source": [
    "    Configured environment for Lab D\n",
    "    Opening GNSS data file:/home/jupyter-semmed/ESCI_OE_874/Data/Lab_A_GNSS.txt\n",
    "    Opening motion data file:/home/jupyter-semmed/ESCI_OE_874/Data/Lab_A_MRU.txt\n",
    "    Opening sound speed profile data file:/home/jupyter-semmed/ESCI_OE_874/Data/Lab_A_SVP.txt\n",
    "    Data/data_ping_4170.txt\n",
    "    Opening sound speed profile data file:Data/data_ping_4170.txt\n",
    "    [[ -0.8163  0.5773  -0.0190]\n",
    "     [ -0.5764  -0.8163  -0.0364]\n",
    "     [ -0.0365  -0.0188  0.9992]]\n",
    "    [[ -0.8123  0.5831  -0.0128]\n",
    "     [ -0.5821  -0.8120  -0.0432]\n",
    "     [ -0.0356  -0.0276  0.9990]]\n"
   ]
  },
  {
   "cell_type": "markdown",
   "metadata": {},
   "source": [
    "___\n",
    "## D10 Finding out Where We Are \n",
    "\n",
    "Next up is the determination of the vessel location at our epochs of interest - we will add the method\n",
    "`get_position` to the `Position` class. This method will take a `datetime` argument an return the position as a one dimensional `numpy` array. The order of the elements should be the same as that in the `Position.proj_pos` array.\n",
    "\n",
    "    def get_position(self, time = datetime.fromtimestamp(0, timezone.utc)):\n",
    "        pos = np.zeros(3)\n",
    "        times = np.array([e.timestamp() for e in self.times])\n",
    "        pos[0] = np.interp(time.timestamp(), times, self.proj_pos[0])\n",
    "        pos[1] = ...\n",
    "        pos[2] = ...\n",
    "        \n",
    "        return pos\n",
    "        \n",
    "In the LabD.py script add and complete the following:\n",
    "\n",
    "    geo_tx_ant = positions.get_position(t_tx)\n",
    "    geo_rx_ant = positions.get_position(t_rx)\n",
    "    \n",
    "This gives the georeferenced position of the GNSS antenna at the transmit epoch `geo_tx_ant` and receive epoch `geo_rx_ant`.  "
   ]
  },
  {
   "cell_type": "code",
   "execution_count": 74,
   "metadata": {},
   "outputs": [
    {
     "name": "stdout",
     "output_type": "stream",
     "text": [
      "Configured environment for Lab D\n",
      "Opening GNSS data file:/home/jupyter-semmed/ESCI_OE_874/Data/Lab_A_GNSS.txt\n",
      "Opening motion data file:/home/jupyter-semmed/ESCI_OE_874/Data/Lab_A_MRU.txt\n",
      "Opening sound speed profile data file:/home/jupyter-semmed/ESCI_OE_874/Data/Lab_A_SVP.txt\n",
      "Data/data_ping_4170.txt\n",
      "Opening sound speed profile data file:Data/data_ping_4170.txt\n",
      "[[ 0.9393]\n",
      " [ -0.0351]\n",
      " [ 0.1114]]\n",
      "[[ 0.9393]\n",
      " [ -0.0351]\n",
      " [ 0.1114]]\n",
      "[ 396628.0730  1764532.9539  28.5175]\n",
      "[ 396627.7979  1764531.9595  28.4045]\n"
     ]
    }
   ],
   "source": [
    "%run -i LabD.py\n",
    "\n",
    "print(geo_tx_ant)\n",
    "print(geo_rx_ant)"
   ]
  },
  {
   "cell_type": "markdown",
   "metadata": {},
   "source": [
    "___\n",
    "## D11 Georeferencing the Lever Arms\n",
    "\n",
    "Just like in Lab A we will need to determine our lever arms in georeferenced space. We will need to geo-reference the antenna lever arm to be able to position the reference point (rp) at both the transmit and receive epochs. Similarly we will need the georeferenced transducer lever arms to be able to locate the transducer using the rp in geo-referenced space. We may use the `Motion.geo_reference_la` method for this purpose.\n",
    "\n",
    "First we will calculate the georeferenced GNSS lever arm `geo_tx_ant` for epoch `t_tx` and then `geo_tx_ant` for epoch `t_rx`\n",
    "\n",
    "In the LabD.py script add and complete the following:\n",
    "\n",
    "    geo_pos_la_tx = motions.geo_reference_la(t_tx, vessel.lever_arm_pos)\n",
    "    geo_pos_la_rx = ...\n",
    "\n",
    "\n"
   ]
  },
  {
   "cell_type": "code",
   "execution_count": 75,
   "metadata": {},
   "outputs": [
    {
     "name": "stdout",
     "output_type": "stream",
     "text": [
      "Configured environment for Lab D\n",
      "Opening GNSS data file:/home/jupyter-semmed/ESCI_OE_874/Data/Lab_A_GNSS.txt\n",
      "Opening motion data file:/home/jupyter-semmed/ESCI_OE_874/Data/Lab_A_MRU.txt\n",
      "Opening sound speed profile data file:/home/jupyter-semmed/ESCI_OE_874/Data/Lab_A_SVP.txt\n",
      "Data/data_ping_4170.txt\n",
      "Opening sound speed profile data file:Data/data_ping_4170.txt\n",
      "[[ 0.9393]\n",
      " [ -0.0351]\n",
      " [ 0.1114]]\n",
      "[[ 0.9393]\n",
      " [ -0.0351]\n",
      " [ 0.1114]]\n",
      "[[ 5.1770]\n",
      " [ 4.4920]\n",
      " [ -29.7635]]\n",
      "[[ 4.9700]\n",
      " [ 4.7300]\n",
      " [ -29.7619]]\n"
     ]
    }
   ],
   "source": [
    "%run -i LabD.py\n",
    "\n",
    "print(geo_pos_la_tx)\n",
    "print(geo_pos_la_rx)"
   ]
  },
  {
   "cell_type": "markdown",
   "metadata": {},
   "source": [
    "    Configured environment for Lab D\n",
    "    Opening GNSS data file:/home/jupyter-semmed/ESCI_OE_874/Data/Lab_A_GNSS.txt\n",
    "    Opening motion data file:/home/jupyter-semmed/ESCI_OE_874/Data/Lab_A_MRU.txt\n",
    "    Opening sound speed profile data file:/home/jupyter-semmed/ESCI_OE_874/Data/Lab_A_SVP.txt\n",
    "    Data/data_ping_4170.txt\n",
    "    Opening sound speed profile data file:Data/data_ping_4170.txt\n",
    "    [[ 5.1770]\n",
    "     [ 4.4920]\n",
    "     [ -29.7635]]\n",
    "    [[ 4.9700]\n",
    "     [ 4.7300]\n",
    "     [ -29.7619]]\n"
   ]
  },
  {
   "cell_type": "markdown",
   "metadata": {},
   "source": [
    "___\n",
    "## D12 Calculating the Reference Position RP\n",
    "\n",
    "Again like lab A we need to determine the location of our reference point `geo_pos_rp_tx` at `t_tx` and `geo_pos_rp_rx` at `t_rx`. We will store these locations in 3x1 column vectors. Just like in Lab A you have to be careful to be careful about axis alignment:\n",
    "\n",
    "In the LabD.py script add and complete the following:\n",
    "\n",
    "    geo_pos_rp_tx = np.zeros((3,1))\n",
    "    geo_pos_rp_rx = ...\n",
    "\n",
    "    geo_pos_rp_tx[0] =  geo_tx_ant[0] - geo_pos_la_tx[1]\n",
    "    geo_pos_rp_tx[1] =  geo_tx_ant[1] - geo_pos_la_tx[0]\n",
    "    geo_pos_rp_tx[2] = -geo_tx_ant[2] - geo_pos_la_tx[2]\n",
    "\n",
    "    geo_pos_rp_rx[0] =  ...\n",
    "    geo_pos_rp_rx[1] =  ...\n",
    "    geo_pos_rp_rx[2] =  ...\n"
   ]
  },
  {
   "cell_type": "code",
   "execution_count": 76,
   "metadata": {},
   "outputs": [
    {
     "name": "stdout",
     "output_type": "stream",
     "text": [
      "Configured environment for Lab D\n",
      "Opening GNSS data file:/home/jupyter-semmed/ESCI_OE_874/Data/Lab_A_GNSS.txt\n",
      "Opening motion data file:/home/jupyter-semmed/ESCI_OE_874/Data/Lab_A_MRU.txt\n",
      "Opening sound speed profile data file:/home/jupyter-semmed/ESCI_OE_874/Data/Lab_A_SVP.txt\n",
      "Data/data_ping_4170.txt\n",
      "Opening sound speed profile data file:Data/data_ping_4170.txt\n",
      "[[ 0.9393]\n",
      " [ -0.0351]\n",
      " [ 0.1114]]\n",
      "[[ 0.9393]\n",
      " [ -0.0351]\n",
      " [ 0.1114]]\n",
      "[[ 396623.5810]\n",
      " [ 1764527.7769]\n",
      " [ 1.2460]]\n",
      "[[ 396623.0679]\n",
      " [ 1764526.9894]\n",
      " [ 1.3574]]\n"
     ]
    }
   ],
   "source": [
    "%run -i LabD.py\n",
    "\n",
    "print(geo_pos_rp_tx)\n",
    "print(geo_pos_rp_rx)"
   ]
  },
  {
   "cell_type": "markdown",
   "metadata": {},
   "source": [
    "    Configured environment for Lab D\n",
    "    Opening GNSS data file:/home/jupyter-semmed/ESCI_OE_874/Data/Lab_A_GNSS.txt\n",
    "    Opening motion data file:/home/jupyter-semmed/ESCI_OE_874/Data/Lab_A_MRU.txt\n",
    "    Opening sound speed profile data file:/home/jupyter-semmed/ESCI_OE_874/Data/Lab_A_SVP.txt\n",
    "    Data/data_ping_4170.txt\n",
    "    Opening sound speed profile data file:Data/data_ping_4170.txt\n",
    "    [[ 396623.5810]\n",
    "     [ 1764527.7769]\n",
    "     [ 1.2460]]\n",
    "    [[ 396623.0679]\n",
    "     [ 1764526.9894]\n",
    "     [ 1.3574]]\n"
   ]
  },
  {
   "cell_type": "markdown",
   "metadata": {},
   "source": [
    "----\n",
    "## D13 The Separation of Shot and Receive\n",
    "\n",
    "<img align=\"center\" width=\"80%\" style=\"padding-right:10px;\" src=\"./Images/separation_shot_receive.jpg\">\n",
    "\n",
    "As there is a finite time between transmission and reception, both the position and the orientation of the array will change in that interval. That interval can typically range from ~1/10 of second (<75m ranges) to 10’s of seconds for deep water systems.\n",
    "\n",
    "If a single location value is to be used, the average of the transmitter position at transmit and receiver position at the average received TWTT can reasonably be used, as we did in Lab A. Strictly though, over the reception cycle, the receiver does propagate forward. But at typical vessel speeds (~4m/s) the distance traveled, compared to the one way sound speed (750 m/s) is a very small fraction (0.5%) which is smaller than the beam footprint. For example, the projected beam width of a 0.5$^{\\circ}$ beam is 0.87% of Z (strictly slant range). Both these numbers are small compared to IHO Special Order horizontal accuracy requirements of 2m in 40m of water which corresponds to only 5% of Z.\n",
    "\n",
    "**Note** that this excludes the physical separation of the transmitter and receiver acoustic centers (normally at least ½ the physical array length). If bottom detection is attempted in the acoustic near field, that separation may be significantly larger than the forward propagation of the sonar over the ping cycle.\n",
    "\n",
    "Unlike lab A we cannot take a simple average, the beam steering is applied at the specific transmit and receive times, so we will create a virtual transducer with the transmit element located and oriented at `t_tx` and the receive element located and oriented at `t_rx`. Thus we need to have a vector that describes the distance traveled between those two epochs. We will use the vector `geo_pos_diff` for that purpose.\n",
    "\n",
    "In the LabD.py script add the following:\n",
    "\n",
    "    geo_pos_diff = geo_pos_rp_rx - geo_pos_rp_tx"
   ]
  },
  {
   "cell_type": "code",
   "execution_count": 77,
   "metadata": {},
   "outputs": [
    {
     "name": "stdout",
     "output_type": "stream",
     "text": [
      "Configured environment for Lab D\n",
      "Opening GNSS data file:/home/jupyter-semmed/ESCI_OE_874/Data/Lab_A_GNSS.txt\n",
      "Opening motion data file:/home/jupyter-semmed/ESCI_OE_874/Data/Lab_A_MRU.txt\n",
      "Opening sound speed profile data file:/home/jupyter-semmed/ESCI_OE_874/Data/Lab_A_SVP.txt\n",
      "Data/data_ping_4170.txt\n",
      "Opening sound speed profile data file:Data/data_ping_4170.txt\n",
      "[[ 0.9393]\n",
      " [ -0.0351]\n",
      " [ 0.1114]]\n",
      "[[ 0.9393]\n",
      " [ -0.0351]\n",
      " [ 0.1114]]\n",
      "[[ -0.7875]\n",
      " [ -0.5131]\n",
      " [ 0.1114]]\n"
     ]
    }
   ],
   "source": [
    "%run -i LabD.py\n",
    "\n",
    "print(geo_pos_diff)"
   ]
  },
  {
   "cell_type": "markdown",
   "metadata": {},
   "source": [
    "    Configured environment for Lab D\n",
    "    Opening GNSS data file:/home/jupyter-semmed/ESCI_OE_874/Data/Lab_A_GNSS.txt\n",
    "    Opening motion data file:/home/jupyter-semmed/ESCI_OE_874/Data/Lab_A_MRU.txt\n",
    "    Opening sound speed profile data file:/home/jupyter-semmed/ESCI_OE_874/Data/Lab_A_SVP.txt\n",
    "    Data/data_ping_4170.txt\n",
    "    Opening sound speed profile data file:Data/data_ping_4170.txt\n",
    "    [[ -0.5131]\n",
    "     [ -0.7875]\n",
    "     [ 0.1114]]\n"
   ]
  },
  {
   "cell_type": "markdown",
   "metadata": {},
   "source": [
    "----\n",
    "## D14 Course Over Ground\n",
    "\n",
    "Now that we have this vector we know what the course over ground (cog) between the transmit and receive epoch was.\n",
    "\n",
    "Note that after this it is more convenient to change the order in the `geo_pos_diff` vector\n",
    "\n",
    "In the LabD.py script add the following:\n",
    "\n",
    "    cog = arctan2(geo_pos_diff[0],geo_pos_diff[1])\n",
    "    \n",
    "    temp = geo_pos_diff.copy()\n",
    "    geo_pos_diff[0] = temp[1]\n",
    "    geo_pos_diff[1] = temp[0]"
   ]
  },
  {
   "cell_type": "code",
   "execution_count": 78,
   "metadata": {},
   "outputs": [
    {
     "name": "stdout",
     "output_type": "stream",
     "text": [
      "Configured environment for Lab D\n",
      "Opening GNSS data file:/home/jupyter-semmed/ESCI_OE_874/Data/Lab_A_GNSS.txt\n",
      "Opening motion data file:/home/jupyter-semmed/ESCI_OE_874/Data/Lab_A_MRU.txt\n",
      "Opening sound speed profile data file:/home/jupyter-semmed/ESCI_OE_874/Data/Lab_A_SVP.txt\n",
      "Data/data_ping_4170.txt\n",
      "Opening sound speed profile data file:Data/data_ping_4170.txt\n",
      "[[ 0.9393]\n",
      " [ -0.0351]\n",
      " [ 0.1114]]\n",
      "[[ 0.9393]\n",
      " [ -0.0351]\n",
      " [ 0.1114]]\n",
      "[ -2.5641]\n",
      "[[ -0.7875]\n",
      " [ -0.5131]\n",
      " [ 0.1114]]\n"
     ]
    }
   ],
   "source": [
    "%run -i LabD.py\n",
    "\n",
    "print(cog)\n",
    "print(geo_pos_diff)"
   ]
  },
  {
   "cell_type": "markdown",
   "metadata": {},
   "source": [
    "    Configured environment for Lab D\n",
    "    Opening GNSS data file:/home/jupyter-semmed/ESCI_OE_874/Data/Lab_A_GNSS.txt\n",
    "    Opening motion data file:/home/jupyter-semmed/ESCI_OE_874/Data/Lab_A_MRU.txt\n",
    "    Opening sound speed profile data file:/home/jupyter-semmed/ESCI_OE_874/Data/Lab_A_SVP.txt\n",
    "    Data/data_ping_4170.txt\n",
    "    Opening sound speed profile data file:Data/data_ping_4170.txt\n",
    "    [ -2.5641]\n",
    "    [[ -0.5131]\n",
    "     [ -0.7875]\n",
    "     [ 0.1114]]\n"
   ]
  },
  {
   "cell_type": "markdown",
   "metadata": {},
   "source": [
    "----\n",
    "## D15 Drift Angle\n",
    "\n",
    "The difference between the cog and the heading is known as the drift angle\n",
    "\n",
    "Pet peeve alert (ignore if you like): often the drift angle is incorrectly referred to as the crab angle. The crab angle is actually a course correction applied by the navigator to achieve the desired course over ground! the Crab angle should therefore be in the opposite direction of the drift angle, but may be of a different magnitude.\n",
    "\n",
    "remember that the heading at transmit is given by `att_tx[2]`\n",
    "\n",
    "In the LabD.py script add and complete the following:\n",
    "\n",
    "    da=(...-...[2])[0]\n",
    "    while da < -pi:\n",
    "         da = da + 2 * pi\n",
    "    while da > pi:\n",
    "        d..."
   ]
  },
  {
   "cell_type": "code",
   "execution_count": 79,
   "metadata": {},
   "outputs": [
    {
     "name": "stdout",
     "output_type": "stream",
     "text": [
      "Configured environment for Lab D\n",
      "Opening GNSS data file:/home/jupyter-semmed/ESCI_OE_874/Data/Lab_A_GNSS.txt\n",
      "Opening motion data file:/home/jupyter-semmed/ESCI_OE_874/Data/Lab_A_MRU.txt\n",
      "Opening sound speed profile data file:/home/jupyter-semmed/ESCI_OE_874/Data/Lab_A_SVP.txt\n",
      "Data/data_ping_4170.txt\n",
      "Opening sound speed profile data file:Data/data_ping_4170.txt\n",
      "[[ 0.9393]\n",
      " [ -0.0351]\n",
      " [ 0.1114]]\n",
      "[[ 0.9393]\n",
      " [ -0.0351]\n",
      " [ 0.1114]]\n",
      "-0.037315440834639446\n"
     ]
    }
   ],
   "source": [
    "%run -i LabD.py\n",
    "\n",
    "print(da)"
   ]
  },
  {
   "cell_type": "markdown",
   "metadata": {},
   "source": [
    "    Configured environment for Lab D\n",
    "    Opening GNSS data file:/home/jupyter-semmed/ESCI_OE_874/Data/Lab_A_GNSS.txt\n",
    "    Opening motion data file:/home/jupyter-semmed/ESCI_OE_874/Data/Lab_A_MRU.txt\n",
    "    Opening sound speed profile data file:/home/jupyter-semmed/ESCI_OE_874/Data/Lab_A_SVP.txt\n",
    "    Data/data_ping_4170.txt\n",
    "    Opening sound speed profile data file:Data/data_ping_4170.txt\n",
    "    -0.037315440834639446"
   ]
  },
  {
   "cell_type": "markdown",
   "metadata": {},
   "source": [
    "----\n",
    "## D16 Heading Change\n",
    "\n",
    "The next thing we need is to determine the heading change between the epochs, as this will contribute to the difference in alignment between the transmit transducer at `t_tx` and the receive transducer at `t_rx`.\n",
    "\n",
    "In the LabD.py script add and complete the following:\n",
    "\n",
    "    d_h=att_rx[2]-att_tx[2]"
   ]
  },
  {
   "cell_type": "code",
   "execution_count": 80,
   "metadata": {},
   "outputs": [
    {
     "name": "stdout",
     "output_type": "stream",
     "text": [
      "Configured environment for Lab D\n",
      "Opening GNSS data file:/home/jupyter-semmed/ESCI_OE_874/Data/Lab_A_GNSS.txt\n",
      "Opening motion data file:/home/jupyter-semmed/ESCI_OE_874/Data/Lab_A_MRU.txt\n",
      "Opening sound speed profile data file:/home/jupyter-semmed/ESCI_OE_874/Data/Lab_A_SVP.txt\n",
      "Data/data_ping_4170.txt\n",
      "Opening sound speed profile data file:Data/data_ping_4170.txt\n",
      "[[ 0.9393]\n",
      " [ -0.0351]\n",
      " [ 0.1114]]\n",
      "[[ 0.9393]\n",
      " [ -0.0351]\n",
      " [ 0.1114]]\n",
      "0.006934786545932159\n"
     ]
    }
   ],
   "source": [
    "%run -i LabD.py\n",
    "\n",
    "print(d_h)"
   ]
  },
  {
   "cell_type": "markdown",
   "metadata": {},
   "source": [
    "    Configured environment for Lab D\n",
    "    Opening GNSS data file:/home/jupyter-semmed/ESCI_OE_874/Data/Lab_A_GNSS.txt\n",
    "    Opening motion data file:/home/jupyter-semmed/ESCI_OE_874/Data/Lab_A_MRU.txt\n",
    "    Opening sound speed profile data file:/home/jupyter-semmed/ESCI_OE_874/Data/Lab_A_SVP.txt\n",
    "    Data/data_ping_4170.txt\n",
    "    Opening sound speed profile data file:Data/data_ping_4170.txt\n",
    "    0.006934786545932159\n"
   ]
  },
  {
   "cell_type": "markdown",
   "metadata": {},
   "source": [
    "---\n",
    "## Equivalent Modeled Virtual Array\n",
    "\n",
    "<img align=\"center\" width=\"80%\" style=\"padding-right:10px;\" src=\"./Images/eq_model.jpg\">\n",
    "\n",
    "To calculate a single beam vector for the outgoing and incoming ray path, an equivalent array geometry needs to be defined in which the two acoustic centers are co-located.\n",
    "\n",
    "The figure above illustrates the modeled beam vector solution. A virtual array location, half way in X,Y and Z from the acoustic center at transmit and receive is calculated. The arrays, however, are no longer mutually orthogonal (even if the physically constructed arrays actually are). This is because time has elapsed.\n",
    "\n",
    "The virtual concentric array model, adopts the transmit orientation for the transmitter and the receive orientations for the receiver.\n"
   ]
  },
  {
   "cell_type": "markdown",
   "metadata": {},
   "source": [
    "----\n",
    "## D17 Creating A new Reference System\n",
    "\n",
    "You can now calculate the orientation of the long axis of the transmitter and receiver at the transmit and receive epochs. Recall from class that the steered beams are oriented around those long axes.\n",
    "\n",
    "For our calculations we will assume that the transducer is aligned to the X and Y-axes, which had we not moved between the transmit and receive epochs would be simple. However we have all the information needed to construct the virtual array. We know the orientation of the tx array at transmit and the rx array at reception. We also know how the vessel moved in the intervening epoch. If we assume that the transmit transducer is aligned to the x-axis  then we need to determine where the receive transducer is relative to the transmit transducer. We do have the vector `ref_pos_diff` which tells us how far and in what direction the vessel traveled (along the ground). Thus if we want to base a new reference frame based on the orientation of the transducer we need to rotate the difference vector of the rp locations by the negative amount of the heading at transmit.\n",
    "\n",
    "In the LabD.py script add and complete the following:\n",
    "\n",
    "    ref_pos_diff = Rz(-att_tx[2])@geo_pos_diff\n",
    "\n"
   ]
  },
  {
   "cell_type": "code",
   "execution_count": 85,
   "metadata": {},
   "outputs": [
    {
     "name": "stdout",
     "output_type": "stream",
     "text": [
      "Configured environment for Lab D\n",
      "Opening GNSS data file:/home/jupyter-semmed/ESCI_OE_874/Data/Lab_A_GNSS.txt\n",
      "Opening motion data file:/home/jupyter-semmed/ESCI_OE_874/Data/Lab_A_MRU.txt\n",
      "Opening sound speed profile data file:/home/jupyter-semmed/ESCI_OE_874/Data/Lab_A_SVP.txt\n",
      "Data/data_ping_4170.txt\n",
      "Opening sound speed profile data file:Data/data_ping_4170.txt\n",
      "[[ 0.9393]\n",
      " [ -0.0351]\n",
      " [ 0.1114]]\n"
     ]
    }
   ],
   "source": [
    "%run -i LabD.py\n",
    "\n",
    "print(ref_pos_diff)"
   ]
  },
  {
   "cell_type": "markdown",
   "metadata": {},
   "source": [
    "    Configured environment for Lab D\n",
    "    Opening GNSS data file:/home/jupyter-semmed/ESCI_OE_874/Data/Lab_A_GNSS.txt\n",
    "    Opening motion data file:/home/jupyter-semmed/ESCI_OE_874/Data/Lab_A_MRU.txt\n",
    "    Opening sound speed profile data file:/home/jupyter-semmed/ESCI_OE_874/Data/Lab_A_SVP.txt\n",
    "    Data/data_ping_4170.txt\n",
    "    Opening sound speed profile data file:Data/data_ping_4170.txt\n",
    "    [[ 0.9393]\n",
    "     [ -0.0351]\n",
    "     [ 0.1114]]\n"
   ]
  }
 ],
 "metadata": {
  "kernelspec": {
   "display_name": "Python 3",
   "language": "python",
   "name": "python3"
  },
  "language_info": {
   "codemirror_mode": {
    "name": "ipython",
    "version": 3
   },
   "file_extension": ".py",
   "mimetype": "text/x-python",
   "name": "python",
   "nbconvert_exporter": "python",
   "pygments_lexer": "ipython3",
   "version": "3.6.7"
  }
 },
 "nbformat": 4,
 "nbformat_minor": 2
}
